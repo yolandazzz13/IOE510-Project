{
 "cells": [
  {
   "cell_type": "code",
   "execution_count": null,
   "metadata": {},
   "outputs": [],
   "source": [
    "\n",
    "import numpy\n",
    "import geopandas as gpd\n",
    "\n",
    "# Replace 'your_file_path.geojson' with the path to your GeoJSON file\n",
    "file_path = 'your_file_path.geojson'\n",
    "geojson_data = gpd.read_file(file_path)\n",
    "\n",
    "# Assuming 'community' is the correct property name\n",
    "filtered_data = geojson_data[geojson_data['community'] == 'San Diego']\n",
    "\n",
    "# To save the filtered data to a new file\n",
    "filtered_data.to_file('filtered_output.geojson', driver='GeoJSON')\n"
   ]
  }
 ],
 "metadata": {
  "kernelspec": {
   "display_name": "Python 3 (ipykernel)",
   "language": "python",
   "name": "python3"
  },
  "language_info": {
   "codemirror_mode": {
    "name": "ipython",
    "version": 3
   },
   "file_extension": ".py",
   "mimetype": "text/x-python",
   "name": "python",
   "nbconvert_exporter": "python",
   "pygments_lexer": "ipython3",
   "version": "3.11.7"
  }
 },
 "nbformat": 4,
 "nbformat_minor": 2
}
